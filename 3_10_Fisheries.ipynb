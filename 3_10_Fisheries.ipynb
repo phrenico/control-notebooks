{
  "nbformat": 4,
  "nbformat_minor": 0,
  "metadata": {
    "colab": {
      "name": "3.10-Fisheries.ipynb",
      "provenance": [],
      "collapsed_sections": [],
      "authorship_tag": "ABX9TyOnIjAbA5jZSb/FxLdm+whn",
      "include_colab_link": true
    },
    "kernelspec": {
      "name": "python3",
      "display_name": "Python 3"
    },
    "language_info": {
      "name": "python"
    }
  },
  "cells": [
    {
      "cell_type": "markdown",
      "metadata": {
        "id": "view-in-github",
        "colab_type": "text"
      },
      "source": [
        "<a href=\"https://colab.research.google.com/github/phrenico/control-notebooks/blob/main/3_10_Fisheries.ipynb\" target=\"_parent\"><img src=\"https://colab.research.google.com/assets/colab-badge.svg\" alt=\"Open In Colab\"/></a>"
      ]
    },
    {
      "cell_type": "markdown",
      "source": [
        "# Exercise 3.10 from the feedback book\n",
        "\n",
        "$$\n",
        "\\dot{x} = f(x) - h(x,u)\\\\\n",
        "y = b h(x, u) - c u \n",
        "$$\n",
        "\n",
        "where $f(x) = r x (1 - x/k)$ is the growth and $h (x, u)= a x u$ is the harvesting rate."
      ],
      "metadata": {
        "id": "B_S2u5F2adK6"
      }
    },
    {
      "cell_type": "code",
      "execution_count": null,
      "metadata": {
        "id": "Re0vSxpvaElQ"
      },
      "outputs": [],
      "source": [
        ""
      ]
    },
    {
      "cell_type": "markdown",
      "source": [
        ""
      ],
      "metadata": {
        "id": "1y0hQun_aTol"
      }
    }
  ]
}