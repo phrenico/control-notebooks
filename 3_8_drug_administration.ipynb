{
  "nbformat": 4,
  "nbformat_minor": 0,
  "metadata": {
    "colab": {
      "name": "3.8-drug administration.ipynb",
      "provenance": [],
      "collapsed_sections": [],
      "authorship_tag": "ABX9TyOzYqAxQ4hP3ZMVIXFFYR2S",
      "include_colab_link": true
    },
    "kernelspec": {
      "name": "python3",
      "display_name": "Python 3"
    },
    "language_info": {
      "name": "python"
    }
  },
  "cells": [
    {
      "cell_type": "markdown",
      "metadata": {
        "id": "view-in-github",
        "colab_type": "text"
      },
      "source": [
        "<a href=\"https://colab.research.google.com/github/phrenico/control-notebooks/blob/main/3_8_drug_administration.ipynb\" target=\"_parent\"><img src=\"https://colab.research.google.com/assets/colab-badge.svg\" alt=\"Open In Colab\"/></a>"
      ]
    },
    {
      "cell_type": "markdown",
      "source": [
        "# Drug administration (exercise 3.8) from Feedback systems book\n",
        "\n"
      ],
      "metadata": {
        "id": "XCSIx4w2V0Mo"
      }
    },
    {
      "cell_type": "code",
      "source": [
        "import numpy as np\n",
        "import matplotlib.pyplot as plt\n",
        "\n",
        "from scipy.integrate import odeint\n",
        "\n",
        "%matplotlib inline"
      ],
      "metadata": {
        "id": "dSgp4NCAYouT"
      },
      "execution_count": 1,
      "outputs": []
    },
    {
      "cell_type": "code",
      "execution_count": 6,
      "metadata": {
        "colab": {
          "base_uri": "https://localhost:8080/",
          "height": 300
        },
        "id": "-Yo22A_XU-hn",
        "outputId": "5ade325c-bbcd-4b1e-8e4b-6a5dccc2b421"
      },
      "outputs": [
        {
          "output_type": "execute_result",
          "data": {
            "text/plain": [
              "[<matplotlib.lines.Line2D at 0x7f1b8e22f750>,\n",
              " <matplotlib.lines.Line2D at 0x7f1b8e22f990>]"
            ]
          },
          "metadata": {},
          "execution_count": 6
        },
        {
          "output_type": "display_data",
          "data": {
            "text/plain": [
              "<Figure size 432x288 with 1 Axes>"
            ],
            "image/png": "[encoded data removed]"
          },
          "metadata": {
            "needs_background": "light"
          }
        }
      ],
      "source": [
        "def f(x, t):\n",
        "  V_b = 48\n",
        "  V_l = 0.6\n",
        "  q = 1.5\n",
        "  q_max = 2.75\n",
        "  c_0 = 0.1\n",
        "  q_iv = 0  # (40 / 46.07) * 1000  # converted g to mmol\n",
        "  q_gi = 0  # (12 / 46.07) * 1000  # converted g to mmol \n",
        "\n",
        "  c_b, c_l = x\n",
        "\n",
        "  dc_b = (q * (c_l - c_b) + q_iv) / V_b\n",
        "  dc_l = (q * (c_b - c_l) - q_max * (c_l / (c_0 + c_l)) + q_gi) * V_l\n",
        "  return dc_b, dc_l\n",
        "\n",
        "\n",
        "def convert2konc(m, V, molarmass=46.07):\n",
        "  c = m / molarmass * 1e3 / V\n",
        "  return c\n",
        "\n",
        "t = np.arange(0, 10, 0.01)\n",
        "x0 = [convert2konc(12, 48), convert2konc(40, 0.6)]\n",
        "\n",
        "x = odeint(f, x0, t)\n",
        "\n",
        "plt.figure()\n",
        "plt.plot(t, x)"
      ]
    },
    {
      "cell_type": "markdown",
      "source": [
        ""
      ],
      "metadata": {
        "id": "JSBuA3YCVxUv"
      }
    }
  ]
}