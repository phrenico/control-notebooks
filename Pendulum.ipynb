{
  "nbformat": 4,
  "nbformat_minor": 0,
  "metadata": {
    "colab": {
      "name": "Pendulum.ipynb",
      "provenance": [],
      "collapsed_sections": [],
      "authorship_tag": "ABX9TyOl/kasApD2jrVaz/ws0NZF",
      "include_colab_link": true
    },
    "kernelspec": {
      "name": "python3",
      "display_name": "Python 3"
    },
    "language_info": {
      "name": "python"
    }
  },
  "cells": [
    {
      "cell_type": "markdown",
      "metadata": {
        "id": "view-in-github",
        "colab_type": "text"
      },
      "source": [
        "<a href=\"https://colab.research.google.com/github/phrenico/control-notebooks/blob/main/Pendulum.ipynb\" target=\"_parent\"><img src=\"https://colab.research.google.com/assets/colab-badge.svg\" alt=\"Open In Colab\"/></a>"
      ]
    },
    {
      "cell_type": "markdown",
      "source": [
        "# Pendulum "
      ],
      "metadata": {
        "id": "z4a-IPGCrcTb"
      }
    },
    {
      "cell_type": "code",
      "execution_count": 9,
      "metadata": {
        "id": "2f1Y1Ct34Y6Z"
      },
      "outputs": [],
      "source": [
        "!pip install slycot\n",
        "!pip install control\n",
        "import numpy as np\n",
        "from scipy.integrate import odeint\n",
        "import matplotlib.pyplot as plt\n",
        "import control.matlab as ctl\n",
        "\n",
        "\n",
        "%matplotlib inline"
      ]
    },
    {
      "cell_type": "markdown",
      "source": [
        "The ODE description:\n",
        "$$\n",
        "\\frac{\\partial^2 \\theta}{\\partial t ^ 2} + s \\frac{\\partial \\theta}{\\partial t } + \\frac{g}{L}\\sin{\\theta} = 0\n",
        "$$\n",
        "\n",
        "\n",
        "State space equations with variables $x_1 = \\theta$, $x_2 = \\dot{\\theta}$:\n",
        "\n",
        "$$\n",
        "\\begin{align}\n",
        "\\dot{x}_1 &= x_2 \\\\\n",
        "\\dot{x}_2 &= - \\frac{g}{L} sin(x_1) - s x_2 \n",
        "\\end{align}\n",
        "$$"
      ],
      "metadata": {
        "id": "V7lunjs_rsEO"
      }
    },
    {
      "cell_type": "code",
      "source": [
        "def f(x, t, s=1, L=1, g=9.81):\n",
        "  dx1 = x[1]\n",
        "  dx2 = - g / L *  np.sin(x[0]) - s * x[1]\n",
        "  return [dx1, dx2]\n",
        "\n",
        "\n",
        "s = 1\n",
        "L= 1\n",
        "g= 9.81\n",
        "\n",
        "x0 = [np.pi/2, 0]\n",
        "t = np.arange(0, 20, 0.01)\n",
        "\n",
        "phi = odeint(f, x0, t)\n",
        "\n",
        "plt.plot(t, phi[:, 0])"
      ],
      "metadata": {
        "colab": {
          "base_uri": "https://localhost:8080/",
          "height": 282
        },
        "id": "hDrviVPE4ixC",
        "outputId": "4a300f16-5ef4-4778-f1cc-11bd86c990ab"
      },
      "execution_count": 36,
      "outputs": [
        {
          "output_type": "execute_result",
          "data": {
            "text/plain": [
              "[<matplotlib.lines.Line2D at 0x7f5a16f9ab10>]"
            ]
          },
          "metadata": {},
          "execution_count": 36
        },
        {
          "output_type": "display_data",
          "data": {
            "text/plain": [
              "<Figure size 432x288 with 1 Axes>"
            ],
            "image/png": "[encoded data removed]"
          },
          "metadata": {
            "needs_background": "light"
          }
        }
      ]
    },
    {
      "cell_type": "code",
      "source": [
        "J_down = np.array([[0, 1], [-g / L, -s]])\n",
        "\n",
        "J_up = np.array([[0, 1], [g / L, -s]])\n",
        "\n",
        "np.linalg.eig(J_up)"
      ],
      "metadata": {
        "colab": {
          "base_uri": "https://localhost:8080/",
          "height": 235
        },
        "id": "yRijGf8u5h7u",
        "outputId": "41fba8b3-9722-4cb2-e561-b9cf69d06192"
      },
      "execution_count": 1,
      "outputs": [
        {
          "output_type": "error",
          "ename": "NameError",
          "evalue": "ignored",
          "traceback": [
            "\u001b[0;31m---------------------------------------------------------------------------\u001b[0m",
            "\u001b[0;31mNameError\u001b[0m                                 Traceback (most recent call last)",
            "\u001b[0;32m<ipython-input-1-1b999ddfa614>\u001b[0m in \u001b[0;36m<module>\u001b[0;34m()\u001b[0m\n\u001b[0;32m----> 1\u001b[0;31m \u001b[0mJ_down\u001b[0m \u001b[0;34m=\u001b[0m \u001b[0mnp\u001b[0m\u001b[0;34m.\u001b[0m\u001b[0marray\u001b[0m\u001b[0;34m(\u001b[0m\u001b[0;34m[\u001b[0m\u001b[0;34m[\u001b[0m\u001b[0;36m0\u001b[0m\u001b[0;34m,\u001b[0m \u001b[0;36m1\u001b[0m\u001b[0;34m]\u001b[0m\u001b[0;34m,\u001b[0m \u001b[0;34m[\u001b[0m\u001b[0;34m-\u001b[0m\u001b[0mg\u001b[0m \u001b[0;34m/\u001b[0m \u001b[0mL\u001b[0m\u001b[0;34m,\u001b[0m \u001b[0;34m-\u001b[0m\u001b[0ms\u001b[0m\u001b[0;34m]\u001b[0m\u001b[0;34m]\u001b[0m\u001b[0;34m)\u001b[0m\u001b[0;34m\u001b[0m\u001b[0;34m\u001b[0m\u001b[0m\n\u001b[0m\u001b[1;32m      2\u001b[0m \u001b[0;34m\u001b[0m\u001b[0m\n\u001b[1;32m      3\u001b[0m \u001b[0mJ_up\u001b[0m \u001b[0;34m=\u001b[0m \u001b[0mnp\u001b[0m\u001b[0;34m.\u001b[0m\u001b[0marray\u001b[0m\u001b[0;34m(\u001b[0m\u001b[0;34m[\u001b[0m\u001b[0;34m[\u001b[0m\u001b[0;36m0\u001b[0m\u001b[0;34m,\u001b[0m \u001b[0;36m1\u001b[0m\u001b[0;34m]\u001b[0m\u001b[0;34m,\u001b[0m \u001b[0;34m[\u001b[0m\u001b[0mg\u001b[0m \u001b[0;34m/\u001b[0m \u001b[0mL\u001b[0m\u001b[0;34m,\u001b[0m \u001b[0;34m-\u001b[0m\u001b[0ms\u001b[0m\u001b[0;34m]\u001b[0m\u001b[0;34m]\u001b[0m\u001b[0;34m)\u001b[0m\u001b[0;34m\u001b[0m\u001b[0;34m\u001b[0m\u001b[0m\n\u001b[1;32m      4\u001b[0m \u001b[0;34m\u001b[0m\u001b[0m\n\u001b[1;32m      5\u001b[0m \u001b[0mnp\u001b[0m\u001b[0;34m.\u001b[0m\u001b[0mlinalg\u001b[0m\u001b[0;34m.\u001b[0m\u001b[0meig\u001b[0m\u001b[0;34m(\u001b[0m\u001b[0mJ_up\u001b[0m\u001b[0;34m)\u001b[0m\u001b[0;34m\u001b[0m\u001b[0;34m\u001b[0m\u001b[0m\n",
            "\u001b[0;31mNameError\u001b[0m: name 'np' is not defined"
          ]
        }
      ]
    },
    {
      "cell_type": "code",
      "source": [
        "np.linalg.eig(J_down)"
      ],
      "metadata": {
        "id": "mgEiqGMW6ZB-"
      },
      "execution_count": null,
      "outputs": []
    },
    {
      "cell_type": "code",
      "source": [
        "# linearized dynamics\n",
        "def lin_f(x, t, A=J_down):\n",
        "  return np.dot(A, x)\n",
        "\n",
        "x0 = [np.pi/4, 0]\n",
        "t = np.arange(0, 20, 0.01)\n",
        "\n",
        "phi = odeint(f, x0, t)\n",
        "phi_approx = odeint(lin_f, x0, t)\n",
        "\n",
        "plt.plot(t, phi_approx[:, 0])\n",
        "plt.plot(t, phi[:, 0])"
      ],
      "metadata": {
        "id": "-EnD4-IH6f4f"
      },
      "execution_count": null,
      "outputs": []
    },
    {
      "cell_type": "code",
      "source": [
        ""
      ],
      "metadata": {
        "id": "0MBg2c4U7GEm"
      },
      "execution_count": 2,
      "outputs": []
    },
    {
      "cell_type": "code",
      "source": [
        ""
      ],
      "metadata": {
        "id": "JxBGbsWDK13C"
      },
      "execution_count": 2,
      "outputs": []
    },
    {
      "cell_type": "code",
      "source": [
        ""
      ],
      "metadata": {
        "id": "fTZXUek7LP-d"
      },
      "execution_count": 2,
      "outputs": []
    },
    {
      "cell_type": "code",
      "source": [
        ""
      ],
      "metadata": {
        "id": "mLAoCannLmFX"
      },
      "execution_count": 51,
      "outputs": []
    },
    {
      "cell_type": "code",
      "source": [
        "np.linalg.matrix_rank(ctl.ctrb(J_up, [[0],[1]]))"
      ],
      "metadata": {
        "colab": {
          "base_uri": "https://localhost:8080/"
        },
        "id": "gw9NMsM6LzOQ",
        "outputId": "fb0fc03a-7f15-49be-9296-adaa01cb44cb"
      },
      "execution_count": 55,
      "outputs": [
        {
          "output_type": "execute_result",
          "data": {
            "text/plain": [
              "2"
            ]
          },
          "metadata": {},
          "execution_count": 55
        }
      ]
    },
    {
      "cell_type": "code",
      "source": [
        ""
      ],
      "metadata": {
        "id": "9NpTtmRjPje5"
      },
      "execution_count": null,
      "outputs": []
    }
  ]
}