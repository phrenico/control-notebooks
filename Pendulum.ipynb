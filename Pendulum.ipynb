{
  "nbformat": 4,
  "nbformat_minor": 0,
  "metadata": {
    "colab": {
      "name": "Pendulum.ipynb",
      "provenance": [],
      "collapsed_sections": [],
      "authorship_tag": "ABX9TyP0EgSyEyqiTbb8ODgCrhtE",
      "include_colab_link": true
    },
    "kernelspec": {
      "name": "python3",
      "display_name": "Python 3"
    },
    "language_info": {
      "name": "python"
    }
  },
  "cells": [
    {
      "cell_type": "markdown",
      "metadata": {
        "id": "view-in-github",
        "colab_type": "text"
      },
      "source": [
        "<a href=\"https://colab.research.google.com/github/phrenico/control-notebooks/blob/main/Pendulum.ipynb\" target=\"_parent\"><img src=\"https://colab.research.google.com/assets/colab-badge.svg\" alt=\"Open In Colab\"/></a>"
      ]
    },
    {
      "cell_type": "markdown",
      "source": [
        "# Pendulum "
      ],
      "metadata": {
        "id": "z4a-IPGCrcTb"
      }
    },
    {
      "cell_type": "code",
      "execution_count": 9,
      "metadata": {
        "id": "2f1Y1Ct34Y6Z"
      },
      "outputs": [],
      "source": [
        "import numpy as np\n",
        "from scipy.integrate import odeint\n",
        "import matplotlib.pyplot as plt\n",
        "\n",
        "%matplotlib inline\n",
        "\n",
        "!pip install slycot\n",
        "!pip install control"
      ]
    },
    {
      "cell_type": "markdown",
      "source": [
        "The ODE description:\n",
        "$$\n",
        "\\frac{\\partial^2 \\theta}{\\partial t ^ 2} + s \\frac{\\partial \\theta}{\\partial t } + \n",
        "$$\n",
        "\n",
        "\n",
        "State space equations:\n",
        "$$\n",
        "x_1 = \\theta \\\\\n",
        "x_2 = \\dot{\\theta}\n",
        "$$\n",
        "\n",
        "$$\n",
        "\\begin{align}\n",
        "\\dot{x}_1 &= x_2 \\\\\n",
        "\\dot{x}_2 &= - \\frac{g}{L} sin(x_1) - s x_2 \n",
        "\\end{align}\n",
        "$$"
      ],
      "metadata": {
        "id": "V7lunjs_rsEO"
      }
    },
    {
      "cell_type": "code",
      "source": [
        "def f(x, t, s=1, L=1, g=9.81):\n",
        "  dx1 = x[1]\n",
        "  dx2 = - g / L *  np.sin(x[0]) - s * x[1]\n",
        "  return [dx1, dx2]\n",
        "\n",
        "\n",
        "s = 1\n",
        "L= 1\n",
        "g= 9.81\n",
        "\n",
        "x0 = [np.pi/2, 0]\n",
        "t = np.arange(0, 20, 0.01)\n",
        "\n",
        "phi = odeint(f, x0, t)\n",
        "\n",
        "plt.plot(t, phi[:, 0])"
      ],
      "metadata": {
        "colab": {
          "base_uri": "https://localhost:8080/",
          "height": 282
        },
        "id": "hDrviVPE4ixC",
        "outputId": "4a300f16-5ef4-4778-f1cc-11bd86c990ab"
      },
      "execution_count": 36,
      "outputs": [
        {
          "output_type": "execute_result",
          "data": {
            "text/plain": [
              "[<matplotlib.lines.Line2D at 0x7f5a16f9ab10>]"
            ]
          },
          "metadata": {},
          "execution_count": 36
        },
        {
          "output_type": "display_data",
          "data": {
            "text/plain": [
              "<Figure size 432x288 with 1 Axes>"
            ],
            "image/png": "[encoded data removed]"
          },
          "metadata": {
            "needs_background": "light"
          }
        }
      ]
    },
    {
      "cell_type": "code",
      "source": [
        "J_down = np.array([[0, 1], [-g / L, -s]])\n",
        "\n",
        "J_up = np.array([[0, 1], [g / L, -s]])\n",
        "\n",
        "np.linalg.eig(J_up)"
      ],
      "metadata": {
        "colab": {
          "base_uri": "https://localhost:8080/"
        },
        "id": "yRijGf8u5h7u",
        "outputId": "aa108b11-c2ee-41f3-9a25-6539e515fc34"
      },
      "execution_count": 31,
      "outputs": [
        {
          "output_type": "execute_result",
          "data": {
            "text/plain": [
              "(array([ 2.67175031, -3.67175031]), array([[ 0.35053751, -0.26277828],\n",
              "        [ 0.93654869,  0.96485624]]))"
            ]
          },
          "metadata": {},
          "execution_count": 31
        }
      ]
    },
    {
      "cell_type": "code",
      "source": [
        "np.linalg.eig(J_down)"
      ],
      "metadata": {
        "colab": {
          "base_uri": "https://localhost:8080/"
        },
        "id": "mgEiqGMW6ZB-",
        "outputId": "eaad8c21-8d21-4e0f-8696-397114c7f574"
      },
      "execution_count": 32,
      "outputs": [
        {
          "output_type": "execute_result",
          "data": {
            "text/plain": [
              "(array([-0.5+3.09192497j, -0.5-3.09192497j]),\n",
              " array([[-0.04855374-0.30024902j, -0.04855374+0.30024902j],\n",
              "        [ 0.9526243 +0.j        ,  0.9526243 -0.j        ]]))"
            ]
          },
          "metadata": {},
          "execution_count": 32
        }
      ]
    },
    {
      "cell_type": "code",
      "source": [
        "# linearized dynamics\n",
        "def lin_f(x, t, A=J_down):\n",
        "  return np.dot(A, x)\n",
        "\n",
        "x0 = [np.pi/4, 0]\n",
        "t = np.arange(0, 20, 0.01)\n",
        "\n",
        "phi = odeint(f, x0, t)\n",
        "phi_approx = odeint(lin_f, x0, t)\n",
        "\n",
        "plt.plot(t, phi_approx[:, 0])\n",
        "plt.plot(t, phi[:, 0])"
      ],
      "metadata": {
        "colab": {
          "base_uri": "https://localhost:8080/",
          "height": 282
        },
        "id": "-EnD4-IH6f4f",
        "outputId": "a0767399-7eb2-4ba5-9b0c-3590660943cc"
      },
      "execution_count": 40,
      "outputs": [
        {
          "output_type": "execute_result",
          "data": {
            "text/plain": [
              "[<matplotlib.lines.Line2D at 0x7f5a16dad1d0>]"
            ]
          },
          "metadata": {},
          "execution_count": 40
        },
        {
          "output_type": "display_data",
          "data": {
            "text/plain": [
              "<Figure size 432x288 with 1 Axes>"
            ],
            "image/png": "[encoded data removed]"
          },
          "metadata": {
            "needs_background": "light"
          }
        }
      ]
    },
    {
      "cell_type": "code",
      "source": [
        "np.linalg.matrix_rank(J_up)"
      ],
      "metadata": {
        "colab": {
          "base_uri": "https://localhost:8080/"
        },
        "id": "0MBg2c4U7GEm",
        "outputId": "eb44e101-fc4e-464f-b3b7-d6bf677e55e7"
      },
      "execution_count": 44,
      "outputs": [
        {
          "output_type": "execute_result",
          "data": {
            "text/plain": [
              "2"
            ]
          },
          "metadata": {},
          "execution_count": 44
        }
      ]
    },
    {
      "cell_type": "code",
      "source": [
        ""
      ],
      "metadata": {
        "colab": {
          "base_uri": "https://localhost:8080/"
        },
        "id": "JxBGbsWDK13C",
        "outputId": "d534f71f-0c24-434c-e4b9-f3da583088f0"
      },
      "execution_count": 49,
      "outputs": [
        {
          "output_type": "stream",
          "name": "stdout",
          "text": [
            "Looking in indexes: https://pypi.org/simple, https://us-python.pkg.dev/colab-wheels/public/simple/\n",
            "Collecting slycot\n",
            "  Downloading slycot-0.4.0.0.tar.gz (1.5 MB)\n",
            "\u001b[K     |████████████████████████████████| 1.5 MB 24.2 MB/s \n",
            "\u001b[?25h  Installing build dependencies ... \u001b[?25l\u001b[?25hdone\n",
            "  Getting requirements to build wheel ... \u001b[?25l\u001b[?25hdone\n",
            "    Preparing wheel metadata ... \u001b[?25l\u001b[?25hdone\n",
            "Requirement already satisfied: numpy in /usr/local/lib/python3.7/dist-packages (from slycot) (1.21.6)\n",
            "Building wheels for collected packages: slycot\n",
            "  Building wheel for slycot (PEP 517) ... \u001b[?25l\u001b[?25hdone\n",
            "  Created wheel for slycot: filename=slycot-0.4.0-cp37-cp37m-linux_x86_64.whl size=1418336 sha256=902854e503a3ab9c7f6ab104fa4904ce9c737701ad43e34ca530f8f67df6ab11\n",
            "  Stored in directory: /root/.cache/pip/wheels/fa/b2/19/1e6568896fbabaf2a03d2fb6575211d281afcb9e00ce026cf6\n",
            "Successfully built slycot\n",
            "Installing collected packages: slycot\n",
            "Successfully installed slycot-0.4.0\n"
          ]
        }
      ]
    },
    {
      "cell_type": "code",
      "source": [
        ""
      ],
      "metadata": {
        "colab": {
          "base_uri": "https://localhost:8080/"
        },
        "id": "fTZXUek7LP-d",
        "outputId": "8c06eae9-74c8-495f-c737-5e6a9d8797b0"
      },
      "execution_count": 50,
      "outputs": [
        {
          "output_type": "stream",
          "name": "stdout",
          "text": [
            "Looking in indexes: https://pypi.org/simple, https://us-python.pkg.dev/colab-wheels/public/simple/\n",
            "Collecting control\n",
            "  Downloading control-0.9.2.tar.gz (398 kB)\n",
            "\u001b[K     |████████████████████████████████| 398 kB 28.9 MB/s \n",
            "\u001b[?25hRequirement already satisfied: numpy in /usr/local/lib/python3.7/dist-packages (from control) (1.21.6)\n",
            "Requirement already satisfied: scipy in /usr/local/lib/python3.7/dist-packages (from control) (1.4.1)\n",
            "Requirement already satisfied: matplotlib in /usr/local/lib/python3.7/dist-packages (from control) (3.2.2)\n",
            "Requirement already satisfied: kiwisolver>=1.0.1 in /usr/local/lib/python3.7/dist-packages (from matplotlib->control) (1.4.3)\n",
            "Requirement already satisfied: cycler>=0.10 in /usr/local/lib/python3.7/dist-packages (from matplotlib->control) (0.11.0)\n",
            "Requirement already satisfied: python-dateutil>=2.1 in /usr/local/lib/python3.7/dist-packages (from matplotlib->control) (2.8.2)\n",
            "Requirement already satisfied: pyparsing!=2.0.4,!=2.1.2,!=2.1.6,>=2.0.1 in /usr/local/lib/python3.7/dist-packages (from matplotlib->control) (3.0.9)\n",
            "Requirement already satisfied: typing-extensions in /usr/local/lib/python3.7/dist-packages (from kiwisolver>=1.0.1->matplotlib->control) (4.1.1)\n",
            "Requirement already satisfied: six>=1.5 in /usr/local/lib/python3.7/dist-packages (from python-dateutil>=2.1->matplotlib->control) (1.15.0)\n",
            "Building wheels for collected packages: control\n",
            "  Building wheel for control (setup.py) ... \u001b[?25l\u001b[?25hdone\n",
            "  Created wheel for control: filename=control-0.9.2-py2.py3-none-any.whl size=403205 sha256=a2d64750bac31a0bc5dc493005247f52d0f759aa3878c53ee6250cacba520553\n",
            "  Stored in directory: /root/.cache/pip/wheels/48/ef/c2/929bb5c59a1328df00a0561d0e68cd7c8537f33f5ce0ce741b\n",
            "Successfully built control\n",
            "Installing collected packages: control\n",
            "Successfully installed control-0.9.2\n"
          ]
        }
      ]
    },
    {
      "cell_type": "code",
      "source": [
        "import control.matlab as ctl"
      ],
      "metadata": {
        "id": "mLAoCannLmFX"
      },
      "execution_count": 51,
      "outputs": []
    },
    {
      "cell_type": "code",
      "source": [
        "np.linalg.matrix_rank(ctl.ctrb(J_up, [[0],[1]]))"
      ],
      "metadata": {
        "colab": {
          "base_uri": "https://localhost:8080/"
        },
        "id": "gw9NMsM6LzOQ",
        "outputId": "fb0fc03a-7f15-49be-9296-adaa01cb44cb"
      },
      "execution_count": 55,
      "outputs": [
        {
          "output_type": "execute_result",
          "data": {
            "text/plain": [
              "2"
            ]
          },
          "metadata": {},
          "execution_count": 55
        }
      ]
    },
    {
      "cell_type": "code",
      "source": [
        ""
      ],
      "metadata": {
        "id": "9NpTtmRjPje5"
      },
      "execution_count": null,
      "outputs": []
    }
  ]
}