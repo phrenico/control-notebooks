{
  "nbformat": 4,
  "nbformat_minor": 0,
  "metadata": {
    "colab": {
      "name": "Pendulum.ipynb",
      "provenance": [],
      "collapsed_sections": [],
      "authorship_tag": "ABX9TyPm3iAvWU5lM725mue7Rm/X",
      "include_colab_link": true
    },
    "kernelspec": {
      "name": "python3",
      "display_name": "Python 3"
    },
    "language_info": {
      "name": "python"
    }
  },
  "cells": [
    {
      "cell_type": "markdown",
      "metadata": {
        "id": "view-in-github",
        "colab_type": "text"
      },
      "source": [
        "<a href=\"https://colab.research.google.com/github/phrenico/control-notebooks/blob/main/Pendulum.ipynb\" target=\"_parent\"><img src=\"https://colab.research.google.com/assets/colab-badge.svg\" alt=\"Open In Colab\"/></a>"
      ]
    },
    {
      "cell_type": "markdown",
      "source": [
        "# Pendulum "
      ],
      "metadata": {
        "id": "z4a-IPGCrcTb"
      }
    },
    {
      "cell_type": "code",
      "execution_count": 2,
      "metadata": {
        "id": "2f1Y1Ct34Y6Z"
      },
      "outputs": [],
      "source": [
        "import numpy as np\n",
        "from scipy.integrate import odeint\n",
        "import matplotlib.pyplot as plt\n",
        "\n",
        "\n",
        "%matplotlib inline"
      ]
    },
    {
      "cell_type": "markdown",
      "source": [
        "The ODE description:\n",
        "$$\n",
        "\\frac{\\partial^2 \\theta}{\\partial t ^ 2} + s \\frac{\\partial \\theta}{\\partial t } + \\frac{g}{L}\\sin{\\theta} = 0\n",
        "$$\n",
        "\n",
        "\n",
        "State space equations with variables $x_1 = \\theta$, $x_2 = \\dot{\\theta}$:\n",
        "\n",
        "$$\n",
        "\\begin{align}\n",
        "\\dot{x}_1 &= x_2 \\\\\n",
        "\\dot{x}_2 &= - \\frac{g}{L} sin(x_1) - s x_2 \n",
        "\\end{align}\n",
        "$$"
      ],
      "metadata": {
        "id": "V7lunjs_rsEO"
      }
    },
    {
      "cell_type": "code",
      "source": [
        "def f(x, t, s=1, L=1, g=9.81):\n",
        "  dx1 = x[1]\n",
        "  dx2 = - g / L *  np.sin(x[0]) - s * x[1]\n",
        "  return [dx1, dx2]\n",
        "\n",
        "\n",
        "s = 1\n",
        "L= 1\n",
        "g= 9.81\n",
        "\n",
        "x0 = [np.pi/2, 0]\n",
        "t = np.arange(0, 20, 0.01)\n",
        "\n",
        "phi = odeint(f, x0, t)\n",
        "\n",
        "plt.plot(t, phi[:, 0])\n",
        "plt.xlabel('t')\n",
        "plt.ylabel('Amplitude')"
      ],
      "metadata": {
        "colab": {
          "base_uri": "https://localhost:8080/",
          "height": 296
        },
        "id": "hDrviVPE4ixC",
        "outputId": "140d89dc-9fd8-4d42-f486-f7ed4f1ac72f"
      },
      "execution_count": 3,
      "outputs": [
        {
          "output_type": "execute_result",
          "data": {
            "text/plain": [
              "Text(0, 0.5, 'Amplitude')"
            ]
          },
          "metadata": {},
          "execution_count": 3
        },
        {
          "output_type": "display_data",
          "data": {
            "text/plain": [
              "<Figure size 432x288 with 1 Axes>"
            ],
            "image/png": "[encoded data removed]"
          },
          "metadata": {
            "needs_background": "light"
          }
        }
      ]
    },
    {
      "cell_type": "markdown",
      "source": [
        "## Linearization of the system around the fixed points:\n",
        "\n",
        "The fixed points are $x^*_1=(0, 0)$ and $x^*_2=(\\pi, 0)$ where the former is stable and the latter is unstable.\n",
        "\n",
        "$$\n",
        "\\dot{x} = J(x^*) \\times (x - x^*)\n",
        "$$\n",
        "where J is the Jacobian of the dynamics and $x^*$ is an equilibrium point:\n",
        "$$\n",
        "J = \\left(\n",
        "\\begin{matrix}\n",
        "0 & 1\\\\\n",
        "-\\frac{g}{L}\\cos{x_1} & -s\n",
        "\\end{matrix} \\right)\n",
        "$$\n",
        "\n",
        "Thus at the fixed points:\n",
        "$$\n",
        "J(x^*_1) = \\left(\n",
        "\\begin{matrix}\n",
        "0 & 1\\\\\n",
        "-\\frac{g}{L} & -s\n",
        "\\end{matrix} \\right)\n",
        "$$ \n",
        "\n",
        "$$\n",
        "J(x^*_2) = \\left(\n",
        "\\begin{matrix}\n",
        "0 & 1\\\\\n",
        "\\frac{g}{L} & -s\n",
        "\\end{matrix} \\right)\n",
        "$$\n"
      ],
      "metadata": {
        "id": "VShUQ-Zmy72b"
      }
    },
    {
      "cell_type": "code",
      "source": [
        "# Jacobian at the two fixed points (up and down) \n",
        "J_down = np.array([[0, 1], [-g / L, -s]])\n",
        "\n",
        "J_up = np.array([[0, 1], [g / L, -s]])\n",
        "\n",
        "print(\"Eigenvalues for the up state:\", np.linalg.eig(J_up)[0])\n",
        "print(\"Eigenvalues for the down state:\", np.linalg.eig(J_down)[0])"
      ],
      "metadata": {
        "colab": {
          "base_uri": "https://localhost:8080/"
        },
        "id": "yRijGf8u5h7u",
        "outputId": "e05cd4a9-5868-40ea-f2d3-388e1ad93690"
      },
      "execution_count": 8,
      "outputs": [
        {
          "output_type": "stream",
          "name": "stdout",
          "text": [
            "Eigenvalues for the up state: [ 2.67175031 -3.67175031]\n",
            "Eigenvalues for the down state: [-0.5+3.09192497j -0.5-3.09192497j]\n"
          ]
        }
      ]
    },
    {
      "cell_type": "code",
      "source": [
        "# linearized dynamics with Jacobian  \n",
        "def lin_f(x, t, A=J_down):\n",
        "  return np.dot(A, x)\n",
        "\n",
        "x0 = [np.pi/2, 0]\n",
        "t = np.arange(0, 20, 0.01)\n",
        "\n",
        "phi = odeint(f, x0, t)\n",
        "phi_approx = odeint(lin_f, x0, t)\n",
        "\n",
        "plt.figure(figsize=(10, 6))\n",
        "plt.plot(t, phi[:, 0], label='damped pendulum')\n",
        "plt.plot(t, phi_approx[:, 0], '--', label='linear approximation')\n",
        "plt.legend()\n",
        "plt.xlabel('t')\n",
        "plt.ylabel('Amplitude')"
      ],
      "metadata": {
        "id": "-EnD4-IH6f4f",
        "outputId": "353be348-3fa8-47fe-d657-f96e7abfac6e",
        "colab": {
          "base_uri": "https://localhost:8080/",
          "height": 405
        }
      },
      "execution_count": 11,
      "outputs": [
        {
          "output_type": "execute_result",
          "data": {
            "text/plain": [
              "Text(0, 0.5, 'Amplitude')"
            ]
          },
          "metadata": {},
          "execution_count": 11
        },
        {
          "output_type": "display_data",
          "data": {
            "text/plain": [
              "<Figure size 720x432 with 1 Axes>"
            ],
            "image/png": "[encoded data removed]"
          },
          "metadata": {
            "needs_background": "light"
          }
        }
      ]
    },
    {
      "cell_type": "code",
      "source": [
        ""
      ],
      "metadata": {
        "id": "JxBGbsWDK13C"
      },
      "execution_count": null,
      "outputs": []
    },
    {
      "cell_type": "code",
      "source": [
        ""
      ],
      "metadata": {
        "id": "fTZXUek7LP-d"
      },
      "execution_count": null,
      "outputs": []
    },
    {
      "cell_type": "code",
      "source": [
        ""
      ],
      "metadata": {
        "id": "mLAoCannLmFX"
      },
      "execution_count": null,
      "outputs": []
    },
    {
      "cell_type": "code",
      "source": [
        ""
      ],
      "metadata": {
        "colab": {
          "base_uri": "https://localhost:8080/"
        },
        "id": "gw9NMsM6LzOQ",
        "outputId": "fb0fc03a-7f15-49be-9296-adaa01cb44cb"
      },
      "execution_count": null,
      "outputs": [
        {
          "output_type": "execute_result",
          "data": {
            "text/plain": [
              "2"
            ]
          },
          "metadata": {},
          "execution_count": 55
        }
      ]
    },
    {
      "cell_type": "code",
      "source": [
        ""
      ],
      "metadata": {
        "id": "9NpTtmRjPje5"
      },
      "execution_count": null,
      "outputs": []
    }
  ]
}