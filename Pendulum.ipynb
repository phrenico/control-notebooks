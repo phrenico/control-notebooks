{
  "nbformat": 4,
  "nbformat_minor": 0,
  "metadata": {
    "colab": {
      "name": "Pendulum.ipynb",
      "provenance": [],
      "collapsed_sections": [],
      "authorship_tag": "ABX9TyPG5P/XKLooaYtTlNhNDu8X",
      "include_colab_link": true
    },
    "kernelspec": {
      "name": "python3",
      "display_name": "Python 3"
    },
    "language_info": {
      "name": "python"
    }
  },
  "cells": [
    {
      "cell_type": "markdown",
      "metadata": {
        "id": "view-in-github",
        "colab_type": "text"
      },
      "source": [
        "<a href=\"https://colab.research.google.com/github/phrenico/control-notebooks/blob/main/Pendulum.ipynb\" target=\"_parent\"><img src=\"https://colab.research.google.com/assets/colab-badge.svg\" alt=\"Open In Colab\"/></a>"
      ]
    },
    {
      "cell_type": "markdown",
      "source": [
        "# Pendulum "
      ],
      "metadata": {
        "id": "z4a-IPGCrcTb"
      }
    },
    {
      "cell_type": "code",
      "execution_count": 1,
      "metadata": {
        "id": "2f1Y1Ct34Y6Z",
        "outputId": "6dd36cb1-4f4a-46c2-9a1a-cb0b960435c5",
        "colab": {
          "base_uri": "https://localhost:8080/"
        }
      },
      "outputs": [
        {
          "output_type": "stream",
          "name": "stdout",
          "text": [
            "Looking in indexes: https://pypi.org/simple, https://us-python.pkg.dev/colab-wheels/public/simple/\n",
            "Collecting slycot\n",
            "  Downloading slycot-0.4.0.0.tar.gz (1.5 MB)\n",
            "\u001b[K     |████████████████████████████████| 1.5 MB 8.6 MB/s \n",
            "\u001b[?25h  Installing build dependencies ... \u001b[?25l\u001b[?25hdone\n",
            "  Getting requirements to build wheel ... \u001b[?25l\u001b[?25hdone\n",
            "    Preparing wheel metadata ... \u001b[?25l\u001b[?25hdone\n",
            "Requirement already satisfied: numpy in /usr/local/lib/python3.7/dist-packages (from slycot) (1.21.6)\n",
            "Building wheels for collected packages: slycot\n",
            "  Building wheel for slycot (PEP 517) ... \u001b[?25l\u001b[?25hdone\n",
            "  Created wheel for slycot: filename=slycot-0.4.0-cp37-cp37m-linux_x86_64.whl size=1418334 sha256=061ed70ac391452c9ba244e1818f51c39f8aca4298812b7b1452ed92588efa0b\n",
            "  Stored in directory: /root/.cache/pip/wheels/fa/b2/19/1e6568896fbabaf2a03d2fb6575211d281afcb9e00ce026cf6\n",
            "Successfully built slycot\n",
            "Installing collected packages: slycot\n",
            "Successfully installed slycot-0.4.0\n",
            "Looking in indexes: https://pypi.org/simple, https://us-python.pkg.dev/colab-wheels/public/simple/\n",
            "Collecting control\n",
            "  Downloading control-0.9.2.tar.gz (398 kB)\n",
            "\u001b[K     |████████████████████████████████| 398 kB 8.2 MB/s \n",
            "\u001b[?25hRequirement already satisfied: numpy in /usr/local/lib/python3.7/dist-packages (from control) (1.21.6)\n",
            "Requirement already satisfied: scipy in /usr/local/lib/python3.7/dist-packages (from control) (1.4.1)\n",
            "Requirement already satisfied: matplotlib in /usr/local/lib/python3.7/dist-packages (from control) (3.2.2)\n",
            "Requirement already satisfied: python-dateutil>=2.1 in /usr/local/lib/python3.7/dist-packages (from matplotlib->control) (2.8.2)\n",
            "Requirement already satisfied: cycler>=0.10 in /usr/local/lib/python3.7/dist-packages (from matplotlib->control) (0.11.0)\n",
            "Requirement already satisfied: pyparsing!=2.0.4,!=2.1.2,!=2.1.6,>=2.0.1 in /usr/local/lib/python3.7/dist-packages (from matplotlib->control) (3.0.9)\n",
            "Requirement already satisfied: kiwisolver>=1.0.1 in /usr/local/lib/python3.7/dist-packages (from matplotlib->control) (1.4.3)\n",
            "Requirement already satisfied: typing-extensions in /usr/local/lib/python3.7/dist-packages (from kiwisolver>=1.0.1->matplotlib->control) (4.1.1)\n",
            "Requirement already satisfied: six>=1.5 in /usr/local/lib/python3.7/dist-packages (from python-dateutil>=2.1->matplotlib->control) (1.15.0)\n",
            "Building wheels for collected packages: control\n",
            "  Building wheel for control (setup.py) ... \u001b[?25l\u001b[?25hdone\n",
            "  Created wheel for control: filename=control-0.9.2-py2.py3-none-any.whl size=403205 sha256=beeb100fa2f28e1da7ab8d5aa4e1af3b53d43ad01f0386551d470deafa9154bd\n",
            "  Stored in directory: /root/.cache/pip/wheels/48/ef/c2/929bb5c59a1328df00a0561d0e68cd7c8537f33f5ce0ce741b\n",
            "Successfully built control\n",
            "Installing collected packages: control\n",
            "Successfully installed control-0.9.2\n"
          ]
        }
      ],
      "source": [
        "!pip install slycot\n",
        "!pip install control\n",
        "import numpy as np\n",
        "from scipy.integrate import odeint\n",
        "import matplotlib.pyplot as plt\n",
        "import control.matlab as ctl\n",
        "\n",
        "\n",
        "%matplotlib inline"
      ]
    },
    {
      "cell_type": "markdown",
      "source": [
        "The ODE description:\n",
        "$$\n",
        "\\frac{\\partial^2 \\theta}{\\partial t ^ 2} + s \\frac{\\partial \\theta}{\\partial t } + \\frac{g}{L}\\sin{\\theta} = 0\n",
        "$$\n",
        "\n",
        "\n",
        "State space equations with variables $x_1 = \\theta$, $x_2 = \\dot{\\theta}$:\n",
        "\n",
        "$$\n",
        "\\begin{align}\n",
        "\\dot{x}_1 &= x_2 \\\\\n",
        "\\dot{x}_2 &= - \\frac{g}{L} sin(x_1) - s x_2 \n",
        "\\end{align}\n",
        "$$"
      ],
      "metadata": {
        "id": "V7lunjs_rsEO"
      }
    },
    {
      "cell_type": "code",
      "source": [
        "def f(x, t, s=1, L=1, g=9.81):\n",
        "  dx1 = x[1]\n",
        "  dx2 = - g / L *  np.sin(x[0]) - s * x[1]\n",
        "  return [dx1, dx2]\n",
        "\n",
        "\n",
        "s = 1\n",
        "L= 1\n",
        "g= 9.81\n",
        "\n",
        "x0 = [np.pi/2, 0]\n",
        "t = np.arange(0, 20, 0.01)\n",
        "\n",
        "phi = odeint(f, x0, t)\n",
        "\n",
        "plt.plot(t, phi[:, 0])\n",
        "plt.xlabel('t')\n",
        "plt.ylabel('Amplitude')"
      ],
      "metadata": {
        "colab": {
          "base_uri": "https://localhost:8080/",
          "height": 296
        },
        "id": "hDrviVPE4ixC",
        "outputId": "ba266fde-c9df-4366-bf3d-40d670642952"
      },
      "execution_count": 2,
      "outputs": [
        {
          "output_type": "execute_result",
          "data": {
            "text/plain": [
              "Text(0, 0.5, 'Amplitude')"
            ]
          },
          "metadata": {},
          "execution_count": 2
        },
        {
          "output_type": "display_data",
          "data": {
            "text/plain": [
              "<Figure size 432x288 with 1 Axes>"
            ],
            "image/png": "[encoded data removed]"
          },
          "metadata": {
            "needs_background": "light"
          }
        }
      ]
    },
    {
      "cell_type": "code",
      "source": [
        "# Jacobian at the two fixed points (up and down) \n",
        "J_down = np.array([[0, 1], [-g / L, -s]])\n",
        "\n",
        "J_up = np.array([[0, 1], [g / L, -s]])\n",
        "\n",
        "np.linalg.eig(J_up)"
      ],
      "metadata": {
        "colab": {
          "base_uri": "https://localhost:8080/"
        },
        "id": "yRijGf8u5h7u",
        "outputId": "b604faa7-c97a-4eec-c73e-bd54a47a28ff"
      },
      "execution_count": 3,
      "outputs": [
        {
          "output_type": "execute_result",
          "data": {
            "text/plain": [
              "(array([ 2.67175031, -3.67175031]), array([[ 0.35053751, -0.26277828],\n",
              "        [ 0.93654869,  0.96485624]]))"
            ]
          },
          "metadata": {},
          "execution_count": 3
        }
      ]
    },
    {
      "cell_type": "code",
      "source": [
        "np.linalg.eig(J_down)"
      ],
      "metadata": {
        "id": "mgEiqGMW6ZB-"
      },
      "execution_count": null,
      "outputs": []
    },
    {
      "cell_type": "code",
      "source": [
        "# linearized dynamics with Jacobian  \n",
        "def lin_f(x, t, A=J_down):\n",
        "  return np.dot(A, x)\n",
        "\n",
        "x0 = [np.pi/4, 0]\n",
        "t = np.arange(0, 20, 0.01)\n",
        "\n",
        "phi = odeint(f, x0, t)\n",
        "phi_approx = odeint(lin_f, x0, t)\n",
        "\n",
        "plt.figure(figsize=(13, 8))\n",
        "plt.plot(t, phi[:, 0], label='damped pendulum')\n",
        "plt.plot(t, phi_approx[:, 0], '--', label='linear approximation')\n",
        "plt.legend()\n",
        "plt.xlabel('t')\n",
        "plt.ylabel('Amplitude')"
      ],
      "metadata": {
        "id": "-EnD4-IH6f4f",
        "outputId": "9507fa85-a4d7-44b9-ae76-7e6c647312c8",
        "colab": {
          "base_uri": "https://localhost:8080/",
          "height": 514
        }
      },
      "execution_count": 9,
      "outputs": [
        {
          "output_type": "execute_result",
          "data": {
            "text/plain": [
              "Text(0, 0.5, 'Amplitude')"
            ]
          },
          "metadata": {},
          "execution_count": 9
        },
        {
          "output_type": "display_data",
          "data": {
            "text/plain": [
              "<Figure size 936x576 with 1 Axes>"
            ],
            "image/png": "[encoded data removed]"
          },
          "metadata": {
            "needs_background": "light"
          }
        }
      ]
    },
    {
      "cell_type": "code",
      "source": [
        ""
      ],
      "metadata": {
        "id": "0MBg2c4U7GEm"
      },
      "execution_count": null,
      "outputs": []
    },
    {
      "cell_type": "code",
      "source": [
        ""
      ],
      "metadata": {
        "id": "JxBGbsWDK13C"
      },
      "execution_count": null,
      "outputs": []
    },
    {
      "cell_type": "code",
      "source": [
        ""
      ],
      "metadata": {
        "id": "fTZXUek7LP-d"
      },
      "execution_count": null,
      "outputs": []
    },
    {
      "cell_type": "code",
      "source": [
        ""
      ],
      "metadata": {
        "id": "mLAoCannLmFX"
      },
      "execution_count": null,
      "outputs": []
    },
    {
      "cell_type": "code",
      "source": [
        "np.linalg.matrix_rank(ctl.ctrb(J_up, [[0],[1]]))"
      ],
      "metadata": {
        "colab": {
          "base_uri": "https://localhost:8080/"
        },
        "id": "gw9NMsM6LzOQ",
        "outputId": "fb0fc03a-7f15-49be-9296-adaa01cb44cb"
      },
      "execution_count": null,
      "outputs": [
        {
          "output_type": "execute_result",
          "data": {
            "text/plain": [
              "2"
            ]
          },
          "metadata": {},
          "execution_count": 55
        }
      ]
    },
    {
      "cell_type": "code",
      "source": [
        ""
      ],
      "metadata": {
        "id": "9NpTtmRjPje5"
      },
      "execution_count": null,
      "outputs": []
    }
  ]
}